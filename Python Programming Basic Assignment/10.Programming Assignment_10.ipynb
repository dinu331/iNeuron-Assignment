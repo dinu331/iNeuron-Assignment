{
 "cells": [
  {
   "cell_type": "markdown",
   "id": "0753e292",
   "metadata": {},
   "source": [
    "# Solutions of Assignment 10 "
   ]
  },
  {
   "cell_type": "markdown",
   "id": "d6f96d38",
   "metadata": {},
   "source": [
    "#### 1.Write a Python Program to find sum of elements in a list ?"
   ]
  },
  {
   "cell_type": "code",
   "execution_count": 1,
   "id": "c32b1ec6",
   "metadata": {
    "scrolled": true
   },
   "outputs": [
    {
     "name": "stdout",
     "output_type": "stream",
     "text": [
      "Enter the No of Entries in a List:5\n",
      "Enter the value of Elements in a List:1\n",
      "Enter the value of Elements in a List:2\n",
      "Enter the value of Elements in a List:3\n",
      "Enter the value of Elements in a List:4\n",
      "Enter the value of Elements in a List:5\n",
      "sum of list Elements [1, 2, 3, 4, 5] is 15\n"
     ]
    }
   ],
   "source": [
    "def sumoflist():\n",
    "    n=int(input('Enter the No of Entries in a List:'))\n",
    "    l=[]\n",
    "    for i in range(n):\n",
    "        l.append(int(input('Enter the value of Elements in a List:')))        \n",
    "    print(f'sum of list Elements {l} is {sum(l)}')\n",
    "sumoflist()    \n",
    "    "
   ]
  },
  {
   "cell_type": "markdown",
   "id": "35ff9c7c",
   "metadata": {},
   "source": [
    "#### 2.Write a Python Program to multiply all numbers in the list ?"
   ]
  },
  {
   "cell_type": "code",
   "execution_count": 2,
   "id": "d9c6307f",
   "metadata": {},
   "outputs": [
    {
     "name": "stdout",
     "output_type": "stream",
     "text": [
      "Enter the No of Entries in a List:5\n",
      "Enter the value of Elements in a List:1\n",
      "Enter the value of Elements in a List:2\n",
      "Enter the value of Elements in a List:3\n",
      "Enter the value of Elements in a List:4\n",
      "Enter the value of Elements in a List:5\n",
      "multiplication of list Elements [1, 2, 3, 4, 5] is 120\n"
     ]
    }
   ],
   "source": [
    "def muloflist():\n",
    "    n=int(input('Enter the No of Entries in a List:'))\n",
    "    l=[]\n",
    "    mul=1\n",
    "    for i in range(n):\n",
    "        l.append(int(input('Enter the value of Elements in a List:')))\n",
    "    for j in l:            \n",
    "        mul = mul*j\n",
    "    print(f'multiplication of list Elements {l} is {mul}')\n",
    "muloflist() "
   ]
  },
  {
   "cell_type": "markdown",
   "id": "0561967b",
   "metadata": {},
   "source": [
    "### 3.Write a Python Program to find smallest number in the list ?"
   ]
  },
  {
   "cell_type": "code",
   "execution_count": 3,
   "id": "802ec0d4",
   "metadata": {},
   "outputs": [
    {
     "name": "stdout",
     "output_type": "stream",
     "text": [
      "Enter the No of Entries in a List:6\n",
      "Enter the value of Elements in a List:4\n",
      "Enter the value of Elements in a List:7\n",
      "Enter the value of Elements in a List:12\n",
      "Enter the value of Elements in a List:29\n",
      "Enter the value of Elements in a List:32\n",
      "Enter the value of Elements in a List:45\n",
      "The Smallest Element in [4, 7, 12, 29, 32, 45] is 4\n"
     ]
    }
   ],
   "source": [
    "def smallEleInList():\n",
    "    n=int(input('Enter the No of Entries in a List:'))\n",
    "    l=[]\n",
    "    for i in range(n):\n",
    "        l.append(int(input('Enter the value of Elements in a List:')))        \n",
    "    print(f'The Smallest Element in {l} is {sorted(l)[0]}')\n",
    "smallEleInList()"
   ]
  },
  {
   "cell_type": "markdown",
   "id": "0684d2e6",
   "metadata": {},
   "source": [
    "#### 4.Write a Python Program to find largest number in the list ?"
   ]
  },
  {
   "cell_type": "code",
   "execution_count": 4,
   "id": "b15a47bb",
   "metadata": {},
   "outputs": [
    {
     "name": "stdout",
     "output_type": "stream",
     "text": [
      "Enter the No of Entries in a List:7\n",
      "Enter the value of Elements in a List:5\n",
      "Enter the value of Elements in a List:3\n",
      "Enter the value of Elements in a List:12\n",
      "Enter the value of Elements in a List:29\n",
      "Enter the value of Elements in a List:34\n",
      "Enter the value of Elements in a List:7\n",
      "Enter the value of Elements in a List:9\n",
      "The largest Element in [5, 3, 12, 29, 34, 7, 9] is 34\n"
     ]
    }
   ],
   "source": [
    "def largestEleInList():\n",
    "    n=int(input('Enter the No of Entries in a List:'))\n",
    "    l=[]\n",
    "    for i in range(n):\n",
    "        l.append(int(input('Enter the value of Elements in a List:')))          \n",
    "    print(f'The largest Element in {l} is {sorted(l,reverse=True)[0]}')\n",
    "largestEleInList()"
   ]
  },
  {
   "cell_type": "markdown",
   "id": "ef882ac4",
   "metadata": {},
   "source": [
    "#### 5.Write a Python Program to find second largest number in the list ?"
   ]
  },
  {
   "cell_type": "code",
   "execution_count": 6,
   "id": "85af3083",
   "metadata": {},
   "outputs": [
    {
     "name": "stdout",
     "output_type": "stream",
     "text": [
      "Enter the No of Entries in a List:7\n",
      "Enter the value of Elements in a List:3\n",
      "Enter the value of Elements in a List:7\n",
      "Enter the value of Elements in a List:5\n",
      "Enter the value of Elements in a List:10\n",
      "Enter the value of Elements in a List:29\n",
      "Enter the value of Elements in a List:32\n",
      "Enter the value of Elements in a List:44\n",
      "The second Largest Element in [3, 7, 5, 10, 29, 32, 44] is 32\n"
     ]
    }
   ],
   "source": [
    "def secondLargestEleInList():\n",
    "    n=int(input('Enter the No of Entries in a List:'))\n",
    "    l=[]\n",
    "    for i in range(n):\n",
    "        l.append(int(input('Enter the value of Elements in a List:')))          \n",
    "    print(f'The second Largest Element in {l} is {sorted(l,reverse=True)[1]}')\n",
    "secondLargestEleInList()"
   ]
  },
  {
   "cell_type": "markdown",
   "id": "ee185d52",
   "metadata": {},
   "source": [
    "#### 6.Write a Python Program to find N largest elements in the list ?"
   ]
  },
  {
   "cell_type": "code",
   "execution_count": 7,
   "id": "a9de2bef",
   "metadata": {},
   "outputs": [
    {
     "name": "stdout",
     "output_type": "stream",
     "text": [
      "Enter the No of Entries in a List:10\n",
      "Enter the value of Elements in a List:4\n",
      "Enter the value of Elements in a List:7\n",
      "Enter the value of Elements in a List:2\n",
      "Enter the value of Elements in a List:8\n",
      "Enter the value of Elements in a List:10\n",
      "Enter the value of Elements in a List:29\n",
      "Enter the value of Elements in a List:32\n",
      "Enter the value of Elements in a List:44\n",
      "Enter the value of Elements in a List:67\n",
      "Enter the value of Elements in a List:15\n",
      "The 5 Largest Element in [4, 7, 2, 8, 10, 29, 32, 44, 67, 15] is [67, 44, 32, 29, 15]\n"
     ]
    }
   ],
   "source": [
    "def nLargestEleInList(N):\n",
    "    n=int(input('Enter the No of Entries in a List:'))\n",
    "    l=[]\n",
    "    for i in range(n):\n",
    "        l.append(int(input('Enter the value of Elements in a List:')))          \n",
    "    print(f'The {N} Largest Element in {l} is {sorted(l,reverse=True)[0:N]}')\n",
    "nLargestEleInList(5)"
   ]
  },
  {
   "cell_type": "markdown",
   "id": "7f5a2b91",
   "metadata": {},
   "source": [
    "#### 7.Write a Python Program to find even numbers in the list ?"
   ]
  },
  {
   "cell_type": "code",
   "execution_count": null,
   "id": "be2593fa",
   "metadata": {},
   "outputs": [],
   "source": [
    "def enenoflist():\n",
    "    n=int(input('Enter the No of Entries in a List:'))\n",
    "    l=[]\n",
    "    even=[]\n",
    "    for i in range(n):\n",
    "        l.append(int(input('Enter the value of Elements in a List:')))        \n",
    "    for j in l:\n",
    "        if j%2==0:\n",
    "            even.append(j)\n",
    "    print(f'even no. of list Elements {l} is {even}')\n",
    "            \n",
    "evenoflist()   "
   ]
  },
  {
   "cell_type": "markdown",
   "id": "a5d3f862",
   "metadata": {},
   "source": [
    "#### 8.Write a Python Program to find odd numbers in the list ?"
   ]
  },
  {
   "cell_type": "code",
   "execution_count": 15,
   "id": "506034bb",
   "metadata": {},
   "outputs": [
    {
     "name": "stdout",
     "output_type": "stream",
     "text": [
      "Enter the No of Entries in a List:6\n",
      "Enter the value of Elements in a List:1\n",
      "Enter the value of Elements in a List:4\n",
      "Enter the value of Elements in a List:7\n",
      "Enter the value of Elements in a List:5\n",
      "Enter the value of Elements in a List:8\n",
      "Enter the value of Elements in a List:9\n",
      "odd no. of list Elements [1, 4, 7, 5, 8, 9] is [1, 7, 5, 9]\n"
     ]
    }
   ],
   "source": [
    "def oddoflist():\n",
    "    n=int(input('Enter the No of Entries in a List:'))\n",
    "    l=[]\n",
    "    odd=[]\n",
    "    for i in range(n):\n",
    "        l.append(int(input('Enter the value of Elements in a List:')))        \n",
    "    for j in l:\n",
    "        if j%2!=0:\n",
    "            odd.append(j)\n",
    "    print(f'odd no. of list Elements {l} is {odd}')\n",
    "            \n",
    "oddoflist()   "
   ]
  },
  {
   "cell_type": "markdown",
   "id": "f97fa7ea",
   "metadata": {},
   "source": [
    "#### 9.Write a Python Program to remove empty list from list ?"
   ]
  },
  {
   "cell_type": "code",
   "execution_count": 18,
   "id": "193a2ef1",
   "metadata": {},
   "outputs": [
    {
     "name": "stdout",
     "output_type": "stream",
     "text": [
      "Enter all elements of the list: [1,4,6,[],15,8]\n",
      "There is an Empty list in [1, 4, 6, [], 15, 8] at Position 3\n",
      "The List after removing [] is [1, 4, 6, 15, 8]\n"
     ]
    }
   ],
   "source": [
    "def checkEmptyList():\n",
    "    l = eval(input('Enter all elements of the list: '))\n",
    "    if [] in l:\n",
    "        print(f'There is an Empty list in {l} at Position {l.index([])}')\n",
    "        l.remove([])\n",
    "        print(f'The List after removing [] is {l}')\n",
    "    else:\n",
    "        print(f'There is no [] List in the list {l}')\n",
    "        \n",
    "checkEmptyList()"
   ]
  },
  {
   "cell_type": "markdown",
   "id": "1a5b1f91",
   "metadata": {},
   "source": [
    "#### 10.Write a Python Program to Cloning or Copying a list ?"
   ]
  },
  {
   "cell_type": "code",
   "execution_count": 21,
   "id": "55882ca5",
   "metadata": {},
   "outputs": [
    {
     "name": "stdout",
     "output_type": "stream",
     "text": [
      "Enter a list[1,4,6,3,8]\n",
      "[1, 4, 6, 3, 8] 1796469619456\n",
      "[1, 4, 6, 3, 8] 1796470615808\n"
     ]
    }
   ],
   "source": [
    "import copy\n",
    "\n",
    "def cloneList():\n",
    "    l = eval(input('Enter a list'))\n",
    "    print(l, id(l))\n",
    "    cloned_l = l.copy()\n",
    "    print(cloned_l, id(cloned_l))\n",
    "\n",
    "cloneList()"
   ]
  },
  {
   "cell_type": "markdown",
   "id": "37e5e6bd",
   "metadata": {},
   "source": [
    "#### 11.Write a Python Program to count occurences of an element in a list ?"
   ]
  },
  {
   "cell_type": "code",
   "execution_count": 27,
   "id": "451083ec",
   "metadata": {},
   "outputs": [
    {
     "name": "stdout",
     "output_type": "stream",
     "text": [
      "Enter a list: [1,5,3,7,9,2,3,12,29,3]\n",
      "Enter a no. of occurences:3\n",
      "no. of count 3 is 3\n"
     ]
    }
   ],
   "source": [
    "def occuroflist():\n",
    "    l=eval(input('Enter a list: '))\n",
    "    num= int(input('Enter a no. of occurences:'))\n",
    "    count=0\n",
    "    if num in l:\n",
    "        for i in l:\n",
    "            if num==i:\n",
    "                count=count+1                  \n",
    "    print(f'no. of count {num} is {count}')\n",
    "        \n",
    "occuroflist()\n",
    "        \n",
    "        \n"
   ]
  }
 ],
 "metadata": {
  "kernelspec": {
   "display_name": "Python 3 (ipykernel)",
   "language": "python",
   "name": "python3"
  },
  "language_info": {
   "codemirror_mode": {
    "name": "ipython",
    "version": 3
   },
   "file_extension": ".py",
   "mimetype": "text/x-python",
   "name": "python",
   "nbconvert_exporter": "python",
   "pygments_lexer": "ipython3",
   "version": "3.9.7"
  }
 },
 "nbformat": 4,
 "nbformat_minor": 5
}
