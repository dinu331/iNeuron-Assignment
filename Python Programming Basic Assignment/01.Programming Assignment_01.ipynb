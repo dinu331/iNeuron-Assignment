{
 "cells": [
  {
   "cell_type": "markdown",
   "metadata": {},
   "source": [
    "# Solutions of Assignment 1 "
   ]
  },
  {
   "cell_type": "markdown",
   "metadata": {},
   "source": [
    "#### 1.Write a Python program to print 'Hello Python' ?"
   ]
  },
  {
   "cell_type": "code",
   "execution_count": 1,
   "metadata": {},
   "outputs": [
    {
     "name": "stdout",
     "output_type": "stream",
     "text": [
      "Hello Python\n"
     ]
    }
   ],
   "source": [
    "print('Hello Python')"
   ]
  },
  {
   "cell_type": "markdown",
   "metadata": {},
   "source": [
    "#### 2.Write a Python program to do arithmetic operations addition and division ?"
   ]
  },
  {
   "cell_type": "code",
   "execution_count": 2,
   "metadata": {},
   "outputs": [
    {
     "name": "stdout",
     "output_type": "stream",
     "text": [
      "enter num1: 24\n",
      "enter num2: 8\n",
      "addition : 32\n",
      "division : 3.0\n"
     ]
    }
   ],
   "source": [
    "num1=int(input('enter num1: '))\n",
    "num2=int(input('enter num2: '))\n",
    "def addno(num1,num2):\n",
    "    print('addition :',num1+num2)\n",
    "def divno(num1,num2):\n",
    "    print('division :',num1/num2)\n",
    "addno(num1,num2)\n",
    "divno(num1,num2)"
   ]
  },
  {
   "cell_type": "markdown",
   "metadata": {},
   "source": [
    "#### 3.Write a Python program to find the area of a triangle ?"
   ]
  },
  {
   "cell_type": "code",
   "execution_count": 3,
   "metadata": {},
   "outputs": [
    {
     "name": "stdout",
     "output_type": "stream",
     "text": [
      "Enter hight :6\n",
      "Enter width :7\n",
      "area: 21.0\n"
     ]
    }
   ],
   "source": [
    "hight= int(input('Enter hight :'))\n",
    "width= int(input('Enter width :'))\n",
    "def tranglearea(hight,width):\n",
    "    return .5*hight*width\n",
    "print('area:',tranglearea(hight,width))"
   ]
  },
  {
   "cell_type": "markdown",
   "metadata": {},
   "source": [
    "#### 4.Write a Python program to swap two variables ?"
   ]
  },
  {
   "cell_type": "code",
   "execution_count": 4,
   "metadata": {},
   "outputs": [
    {
     "name": "stdout",
     "output_type": "stream",
     "text": [
      "Enter 1st no: 22\n",
      "Enter 2nd no: 44\n",
      "Before swapping 22 44\n",
      "After swapping 44 22\n"
     ]
    }
   ],
   "source": [
    "num1= int(input('Enter 1st no: '))\n",
    "num2= int(input('Enter 2nd no: '))\n",
    "def swapno(a,b):\n",
    "    temp = a\n",
    "    a = b\n",
    "    b = temp\n",
    "    return a,b\n",
    "print('Before swapping', num1,num2)\n",
    "num1,num2= swapno(num1,num2)\n",
    "print('After swapping', num1,num2)\n"
   ]
  },
  {
   "cell_type": "markdown",
   "metadata": {},
   "source": [
    "#### 5.Write a Python program to generate a random number ?"
   ]
  },
  {
   "cell_type": "code",
   "execution_count": 5,
   "metadata": {
    "scrolled": true
   },
   "outputs": [
    {
     "name": "stdout",
     "output_type": "stream",
     "text": [
      "Enter no: 1000\n",
      "random no 205\n"
     ]
    }
   ],
   "source": [
    "from random import randint\n",
    "num= int(input('Enter no: '))\n",
    "def genrand(num):\n",
    "    return randint(0,num)\n",
    "print('random no', randint(0,num))\n"
   ]
  }
 ],
 "metadata": {
  "kernelspec": {
   "display_name": "Python 3 (ipykernel)",
   "language": "python",
   "name": "python3"
  },
  "language_info": {
   "codemirror_mode": {
    "name": "ipython",
    "version": 3
   },
   "file_extension": ".py",
   "mimetype": "text/x-python",
   "name": "python",
   "nbconvert_exporter": "python",
   "pygments_lexer": "ipython3",
   "version": "3.9.7"
  }
 },
 "nbformat": 4,
 "nbformat_minor": 4
}
